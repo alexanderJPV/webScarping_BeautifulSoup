{
 "cells": [
  {
   "cell_type": "code",
   "execution_count": 1,
   "metadata": {},
   "outputs": [
    {
     "name": "stdout",
     "output_type": "stream",
     "text": [
      "Hello everyone\n"
     ]
    }
   ],
   "source": [
    "print('Hello everyone')"
   ]
  },
  {
   "cell_type": "code",
   "execution_count": 20,
   "metadata": {},
   "outputs": [
    {
     "name": "stdout",
     "output_type": "stream",
     "text": [
      "Ruta de la imagen : img/sh-logo.png\n",
      "Ruta de la imagen : ./img/books.png\n",
      "Ruta de la imagen : ./img/quotes.png\n",
      "EL lin es : http://books.toscrape.com\n",
      "EL lin es : http://books.toscrape.com\n",
      "EL lin es : http://books.toscrape.com\n",
      "EL lin es : http://quotes.toscrape.com/\n",
      "EL lin es : http://quotes.toscrape.com\n",
      "EL lin es : http://quotes.toscrape.com/\n",
      "EL lin es : http://quotes.toscrape.com/scroll\n",
      "EL lin es : http://quotes.toscrape.com/js\n",
      "EL lin es : http://quotes.toscrape.com/js-delayed\n",
      "EL lin es : http://quotes.toscrape.com/tableful\n",
      "EL lin es : http://quotes.toscrape.com/login\n",
      "EL lin es : http://quotes.toscrape.com/search.aspx\n",
      "EL lin es : http://quotes.toscrape.com/random\n"
     ]
    }
   ],
   "source": [
    "from bs4 import BeautifulSoup\n",
    "import requests\n",
    "\n",
    "#get request\n",
    "\n",
    "html_doc = requests.get('http://toscrape.com/', headers = {'Accept-Encoding':'identity'})\n",
    "#print(html_doc.content)\n",
    "#pasar contenido html a la una variable BeautifulSoup\n",
    "soup = BeautifulSoup(html_doc.content,'html.parser')\n",
    "#pruebas\n",
    "#print(soup.img.get('class')[0])\n",
    "#print(soup.img.get('src'))\n",
    "#print(soup.find_all('img'))\n",
    "#listar todas las imagenes de la pagina\n",
    "for img in soup.find_all('img'):\n",
    "    print(\"Ruta de la imagen : \"+img.get('src'))\n",
    "#listas todos las etiquedas a de la pagina\n",
    "for link in soup.find_all('a'):\n",
    "    print('EL lin es : '+ link.get('href'))"
   ]
  },
  {
   "cell_type": "code",
   "execution_count": null,
   "metadata": {},
   "outputs": [],
   "source": []
  }
 ],
 "metadata": {
  "kernelspec": {
   "display_name": "Python 3",
   "language": "python",
   "name": "python3"
  },
  "language_info": {
   "codemirror_mode": {
    "name": "ipython",
    "version": 3
   },
   "file_extension": ".py",
   "mimetype": "text/x-python",
   "name": "python",
   "nbconvert_exporter": "python",
   "pygments_lexer": "ipython3",
   "version": "3.7.9"
  }
 },
 "nbformat": 4,
 "nbformat_minor": 4
}
